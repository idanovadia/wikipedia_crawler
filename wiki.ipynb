{
  "nbformat": 4,
  "nbformat_minor": 0,
  "metadata": {
    "colab": {
      "name": "wiki.ipynb",
      "provenance": [],
      "collapsed_sections": [
        "5bnfKdcJcfJD"
      ],
      "include_colab_link": true
    },
    "kernelspec": {
      "name": "python3",
      "display_name": "Python 3"
    }
  },
  "cells": [
    {
      "cell_type": "markdown",
      "metadata": {
        "id": "view-in-github",
        "colab_type": "text"
      },
      "source": [
        "<a href=\"https://colab.research.google.com/github/idanovadia/wikipedia_crawler/blob/master/wiki.ipynb\" target=\"_parent\"><img src=\"https://colab.research.google.com/assets/colab-badge.svg\" alt=\"Open In Colab\"/></a>"
      ]
    },
    {
      "cell_type": "markdown",
      "metadata": {
        "id": "5bnfKdcJcfJD",
        "colab_type": "text"
      },
      "source": [
        "\n",
        "## **Q1**\n"
      ]
    },
    {
      "cell_type": "code",
      "metadata": {
        "id": "gh4gC2WybD1E",
        "colab_type": "code",
        "colab": {}
      },
      "source": [
        "from urllib.request import urlopen\n",
        "from urllib.error import HTTPError\n",
        "from bs4 import BeautifulSoup\n",
        "import re"
      ],
      "execution_count": 0,
      "outputs": []
    },
    {
      "cell_type": "code",
      "metadata": {
        "id": "h0zav30jctNN",
        "colab_type": "code",
        "colab": {}
      },
      "source": [
        "url_q1 = \"https://en.wikipedia.org/wiki/Julia_Roberts_filmography\"\n",
        "html_q1 = urlopen(url_q1)\n",
        "bs_obj_q1 = BeautifulSoup(html_q1.read()) #parsing the html tags\n",
        "table = (bs_obj_q1.find_all('table'))[0] #keeping only the first table which is the one needed"
      ],
      "execution_count": 0,
      "outputs": []
    },
    {
      "cell_type": "code",
      "metadata": {
        "id": "ODeqnSqzg65E",
        "colab_type": "code",
        "colab": {}
      },
      "source": [
        "import pandas as pd"
      ],
      "execution_count": 0,
      "outputs": []
    },
    {
      "cell_type": "code",
      "metadata": {
        "id": "xlwPF4_RhcbZ",
        "colab_type": "code",
        "colab": {}
      },
      "source": [
        "df_table = pd.read_html(str(table)) #returns list of dataFrames. we need a dataframe type and not a list\n",
        "df_table = pd.concat(df_table) #returns a dataFrame type\n",
        "final_table = df_table.iloc[:,0:4] #picking relevant columns to display"
      ],
      "execution_count": 0,
      "outputs": []
    },
    {
      "cell_type": "markdown",
      "metadata": {
        "id": "kdqUlu1BoX-g",
        "colab_type": "text"
      },
      "source": [
        "**show the DF**\n"
      ]
    },
    {
      "cell_type": "code",
      "metadata": {
        "id": "r0-I8DO4hmlg",
        "colab_type": "code",
        "outputId": "ab8558c8-c5cc-4ccc-dcf0-ebc9bc509137",
        "colab": {
          "base_uri": "https://localhost:8080/",
          "height": 1000
        }
      },
      "source": [
        "final_table"
      ],
      "execution_count": 5,
      "outputs": [
        {
          "output_type": "execute_result",
          "data": {
            "text/html": [
              "<div>\n",
              "<style scoped>\n",
              "    .dataframe tbody tr th:only-of-type {\n",
              "        vertical-align: middle;\n",
              "    }\n",
              "\n",
              "    .dataframe tbody tr th {\n",
              "        vertical-align: top;\n",
              "    }\n",
              "\n",
              "    .dataframe thead th {\n",
              "        text-align: right;\n",
              "    }\n",
              "</style>\n",
              "<table border=\"1\" class=\"dataframe\">\n",
              "  <thead>\n",
              "    <tr style=\"text-align: right;\">\n",
              "      <th></th>\n",
              "      <th>Title</th>\n",
              "      <th>Year</th>\n",
              "      <th>Role</th>\n",
              "      <th>Director(s)</th>\n",
              "    </tr>\n",
              "  </thead>\n",
              "  <tbody>\n",
              "    <tr>\n",
              "      <th>0</th>\n",
              "      <td>Firehouse</td>\n",
              "      <td>1987</td>\n",
              "      <td>Babs</td>\n",
              "      <td>J. Christian Ingvordsen</td>\n",
              "    </tr>\n",
              "    <tr>\n",
              "      <th>1</th>\n",
              "      <td>Satisfaction</td>\n",
              "      <td>1988</td>\n",
              "      <td>Daryle Shane</td>\n",
              "      <td>Joan Freeman</td>\n",
              "    </tr>\n",
              "    <tr>\n",
              "      <th>2</th>\n",
              "      <td>Mystic Pizza</td>\n",
              "      <td>1988</td>\n",
              "      <td>Daisy Arujo</td>\n",
              "      <td>Donald Petrie</td>\n",
              "    </tr>\n",
              "    <tr>\n",
              "      <th>3</th>\n",
              "      <td>Blood Red</td>\n",
              "      <td>1989</td>\n",
              "      <td>Marisa Collogero</td>\n",
              "      <td>Peter Masterson</td>\n",
              "    </tr>\n",
              "    <tr>\n",
              "      <th>4</th>\n",
              "      <td>Steel Magnolias</td>\n",
              "      <td>1989</td>\n",
              "      <td>Shelby Eatenton Latcherie</td>\n",
              "      <td>Herbert Ross</td>\n",
              "    </tr>\n",
              "    <tr>\n",
              "      <th>5</th>\n",
              "      <td>Pretty Woman</td>\n",
              "      <td>1990</td>\n",
              "      <td>Vivian Ward</td>\n",
              "      <td>Garry Marshall</td>\n",
              "    </tr>\n",
              "    <tr>\n",
              "      <th>6</th>\n",
              "      <td>Flatliners</td>\n",
              "      <td>1990</td>\n",
              "      <td>Rachel Mannus</td>\n",
              "      <td>Joel Schumacher</td>\n",
              "    </tr>\n",
              "    <tr>\n",
              "      <th>7</th>\n",
              "      <td>Sleeping with the Enemy</td>\n",
              "      <td>1991</td>\n",
              "      <td>Laura Williams Burney/ Sara Waters</td>\n",
              "      <td>Joseph Ruben</td>\n",
              "    </tr>\n",
              "    <tr>\n",
              "      <th>8</th>\n",
              "      <td>Dying Young</td>\n",
              "      <td>1991</td>\n",
              "      <td>Hilary O'Neil</td>\n",
              "      <td>Joel Schumacher</td>\n",
              "    </tr>\n",
              "    <tr>\n",
              "      <th>9</th>\n",
              "      <td>Hook</td>\n",
              "      <td>1991</td>\n",
              "      <td>Tinker Bell</td>\n",
              "      <td>Steven Spielberg</td>\n",
              "    </tr>\n",
              "    <tr>\n",
              "      <th>10</th>\n",
              "      <td>The Player</td>\n",
              "      <td>1992</td>\n",
              "      <td>Herself</td>\n",
              "      <td>Robert Altman</td>\n",
              "    </tr>\n",
              "    <tr>\n",
              "      <th>11</th>\n",
              "      <td>The Pelican Brief</td>\n",
              "      <td>1993</td>\n",
              "      <td>Darby Shaw</td>\n",
              "      <td>Alan J. Pakula</td>\n",
              "    </tr>\n",
              "    <tr>\n",
              "      <th>12</th>\n",
              "      <td>I Love Trouble</td>\n",
              "      <td>1994</td>\n",
              "      <td>Sabrina Peterson</td>\n",
              "      <td>Charles Shyer</td>\n",
              "    </tr>\n",
              "    <tr>\n",
              "      <th>13</th>\n",
              "      <td>Prêt-à-Porter</td>\n",
              "      <td>1994</td>\n",
              "      <td>Anne Eisenhower</td>\n",
              "      <td>Robert Altman</td>\n",
              "    </tr>\n",
              "    <tr>\n",
              "      <th>14</th>\n",
              "      <td>Something to Talk About</td>\n",
              "      <td>1995</td>\n",
              "      <td>Grace King Bichon</td>\n",
              "      <td>Lasse Hallström</td>\n",
              "    </tr>\n",
              "    <tr>\n",
              "      <th>15</th>\n",
              "      <td>Mary Reilly</td>\n",
              "      <td>1996</td>\n",
              "      <td>Mary Reilly</td>\n",
              "      <td>Stephen Frears</td>\n",
              "    </tr>\n",
              "    <tr>\n",
              "      <th>16</th>\n",
              "      <td>Michael Collins</td>\n",
              "      <td>1996</td>\n",
              "      <td>Kitty Kiernan</td>\n",
              "      <td>Neil Jordan</td>\n",
              "    </tr>\n",
              "    <tr>\n",
              "      <th>17</th>\n",
              "      <td>Everyone Says I Love You</td>\n",
              "      <td>1996</td>\n",
              "      <td>Von Sidell</td>\n",
              "      <td>Woody Allen</td>\n",
              "    </tr>\n",
              "    <tr>\n",
              "      <th>18</th>\n",
              "      <td>My Best Friend's Wedding</td>\n",
              "      <td>1997</td>\n",
              "      <td>Julianne Potter</td>\n",
              "      <td>P.J. Hogan</td>\n",
              "    </tr>\n",
              "    <tr>\n",
              "      <th>19</th>\n",
              "      <td>Conspiracy Theory</td>\n",
              "      <td>1997</td>\n",
              "      <td>Alice Sutton</td>\n",
              "      <td>Richard Donner</td>\n",
              "    </tr>\n",
              "    <tr>\n",
              "      <th>20</th>\n",
              "      <td>Stepmom</td>\n",
              "      <td>1998</td>\n",
              "      <td>Isabel Kelly</td>\n",
              "      <td>Chris Columbus</td>\n",
              "    </tr>\n",
              "    <tr>\n",
              "      <th>21</th>\n",
              "      <td>Notting Hill</td>\n",
              "      <td>1999</td>\n",
              "      <td>Anna Scott</td>\n",
              "      <td>Roger Michell</td>\n",
              "    </tr>\n",
              "    <tr>\n",
              "      <th>22</th>\n",
              "      <td>Runaway Bride</td>\n",
              "      <td>1999</td>\n",
              "      <td>Maggie Carpenter</td>\n",
              "      <td>Garry Marshall</td>\n",
              "    </tr>\n",
              "    <tr>\n",
              "      <th>23</th>\n",
              "      <td>Erin Brockovich</td>\n",
              "      <td>2000</td>\n",
              "      <td>Erin Brockovich</td>\n",
              "      <td>Steven Soderbergh</td>\n",
              "    </tr>\n",
              "    <tr>\n",
              "      <th>24</th>\n",
              "      <td>The Mexican</td>\n",
              "      <td>2001</td>\n",
              "      <td>Samantha Barzel</td>\n",
              "      <td>Gore Verbinski</td>\n",
              "    </tr>\n",
              "    <tr>\n",
              "      <th>25</th>\n",
              "      <td>America's Sweethearts</td>\n",
              "      <td>2001</td>\n",
              "      <td>Kiki Harrison</td>\n",
              "      <td>Joe Roth</td>\n",
              "    </tr>\n",
              "    <tr>\n",
              "      <th>26</th>\n",
              "      <td>Ocean's Eleven</td>\n",
              "      <td>2001</td>\n",
              "      <td>Tess Ocean</td>\n",
              "      <td>Steven Soderbergh</td>\n",
              "    </tr>\n",
              "    <tr>\n",
              "      <th>27</th>\n",
              "      <td>Grand Champion</td>\n",
              "      <td>2002</td>\n",
              "      <td>Jolene</td>\n",
              "      <td>Barry Tubb</td>\n",
              "    </tr>\n",
              "    <tr>\n",
              "      <th>28</th>\n",
              "      <td>Full Frontal</td>\n",
              "      <td>2002</td>\n",
              "      <td>Francesca/Catherine</td>\n",
              "      <td>Steven Soderbergh</td>\n",
              "    </tr>\n",
              "    <tr>\n",
              "      <th>29</th>\n",
              "      <td>Confessions of a Dangerous Mind</td>\n",
              "      <td>2002</td>\n",
              "      <td>Patricia Watson</td>\n",
              "      <td>George Clooney</td>\n",
              "    </tr>\n",
              "    <tr>\n",
              "      <th>30</th>\n",
              "      <td>Mona Lisa Smile</td>\n",
              "      <td>2003</td>\n",
              "      <td>Katherine Ann Watson</td>\n",
              "      <td>Mike Newell</td>\n",
              "    </tr>\n",
              "    <tr>\n",
              "      <th>31</th>\n",
              "      <td>Tell Them Who You Are</td>\n",
              "      <td>2004</td>\n",
              "      <td>Herself</td>\n",
              "      <td>Mark Wexler</td>\n",
              "    </tr>\n",
              "    <tr>\n",
              "      <th>32</th>\n",
              "      <td>Closer</td>\n",
              "      <td>2004</td>\n",
              "      <td>Anna Cameron</td>\n",
              "      <td>Mike Nichols</td>\n",
              "    </tr>\n",
              "    <tr>\n",
              "      <th>33</th>\n",
              "      <td>Ocean's Twelve</td>\n",
              "      <td>2004</td>\n",
              "      <td>Tess Ocean</td>\n",
              "      <td>Steven Soderbergh</td>\n",
              "    </tr>\n",
              "    <tr>\n",
              "      <th>34</th>\n",
              "      <td>The Ant Bully</td>\n",
              "      <td>2006</td>\n",
              "      <td>Hova</td>\n",
              "      <td>John A. Davis</td>\n",
              "    </tr>\n",
              "    <tr>\n",
              "      <th>35</th>\n",
              "      <td>Charlotte's Web</td>\n",
              "      <td>2006</td>\n",
              "      <td>Charlotte the Spider</td>\n",
              "      <td>Gary Winick</td>\n",
              "    </tr>\n",
              "    <tr>\n",
              "      <th>36</th>\n",
              "      <td>Charlie Wilson's War</td>\n",
              "      <td>2007</td>\n",
              "      <td>Joanne Herring</td>\n",
              "      <td>Mike Nichols</td>\n",
              "    </tr>\n",
              "    <tr>\n",
              "      <th>37</th>\n",
              "      <td>Fireflies in the Garden</td>\n",
              "      <td>2008</td>\n",
              "      <td>Lisa Taylor</td>\n",
              "      <td>Dennis Lee</td>\n",
              "    </tr>\n",
              "    <tr>\n",
              "      <th>38</th>\n",
              "      <td>Kit Kittredge: An American Girl</td>\n",
              "      <td>2008</td>\n",
              "      <td>—</td>\n",
              "      <td>Patricia Rozema</td>\n",
              "    </tr>\n",
              "    <tr>\n",
              "      <th>39</th>\n",
              "      <td>Duplicity</td>\n",
              "      <td>2009</td>\n",
              "      <td>Claire Stenwick</td>\n",
              "      <td>Tony Gilroy</td>\n",
              "    </tr>\n",
              "    <tr>\n",
              "      <th>40</th>\n",
              "      <td>Valentine's Day</td>\n",
              "      <td>2010</td>\n",
              "      <td>Captain Kate Hazeltine</td>\n",
              "      <td>Garry Marshall</td>\n",
              "    </tr>\n",
              "    <tr>\n",
              "      <th>41</th>\n",
              "      <td>Eat Pray Love</td>\n",
              "      <td>2010</td>\n",
              "      <td>Elizabeth Gilbert</td>\n",
              "      <td>Ryan Murphy</td>\n",
              "    </tr>\n",
              "    <tr>\n",
              "      <th>42</th>\n",
              "      <td>Jesus Henry Christ</td>\n",
              "      <td>2011</td>\n",
              "      <td>—</td>\n",
              "      <td>Dennis Lee</td>\n",
              "    </tr>\n",
              "    <tr>\n",
              "      <th>43</th>\n",
              "      <td>Love, Wedding, Marriage</td>\n",
              "      <td>2011</td>\n",
              "      <td>Ava's Therapist</td>\n",
              "      <td>Dermot Mulroney</td>\n",
              "    </tr>\n",
              "    <tr>\n",
              "      <th>44</th>\n",
              "      <td>Larry Crowne</td>\n",
              "      <td>2011</td>\n",
              "      <td>Mercedes Tainot</td>\n",
              "      <td>Tom Hanks</td>\n",
              "    </tr>\n",
              "    <tr>\n",
              "      <th>45</th>\n",
              "      <td>Mirror, Mirror</td>\n",
              "      <td>2012</td>\n",
              "      <td>Queen Clementianna</td>\n",
              "      <td>Tarsem Singh</td>\n",
              "    </tr>\n",
              "    <tr>\n",
              "      <th>46</th>\n",
              "      <td>August: Osage County</td>\n",
              "      <td>2013</td>\n",
              "      <td>Barbara Fordham</td>\n",
              "      <td>John Wells</td>\n",
              "    </tr>\n",
              "    <tr>\n",
              "      <th>47</th>\n",
              "      <td>Secret in Their Eyes</td>\n",
              "      <td>2015</td>\n",
              "      <td>Jess Cobb</td>\n",
              "      <td>Billy Ray</td>\n",
              "    </tr>\n",
              "    <tr>\n",
              "      <th>48</th>\n",
              "      <td>Mother's Day</td>\n",
              "      <td>2016</td>\n",
              "      <td>Miranda</td>\n",
              "      <td>Garry Marshall</td>\n",
              "    </tr>\n",
              "    <tr>\n",
              "      <th>49</th>\n",
              "      <td>Money Monster</td>\n",
              "      <td>2016</td>\n",
              "      <td>Patty Fenn</td>\n",
              "      <td>Jodie Foster</td>\n",
              "    </tr>\n",
              "    <tr>\n",
              "      <th>50</th>\n",
              "      <td>Smurfs: The Lost Village</td>\n",
              "      <td>2017</td>\n",
              "      <td>Smurf Willow</td>\n",
              "      <td>Kelly Asbury</td>\n",
              "    </tr>\n",
              "    <tr>\n",
              "      <th>51</th>\n",
              "      <td>Wonder</td>\n",
              "      <td>2017</td>\n",
              "      <td>Isabel Pullman</td>\n",
              "      <td>Stephen Chbosky</td>\n",
              "    </tr>\n",
              "    <tr>\n",
              "      <th>52</th>\n",
              "      <td>Ben Is Back</td>\n",
              "      <td>2018</td>\n",
              "      <td>Holly Burns</td>\n",
              "      <td>Peter Hedges</td>\n",
              "    </tr>\n",
              "  </tbody>\n",
              "</table>\n",
              "</div>"
            ],
            "text/plain": [
              "                              Title  ...              Director(s)\n",
              "0                         Firehouse  ...  J. Christian Ingvordsen\n",
              "1                      Satisfaction  ...             Joan Freeman\n",
              "2                      Mystic Pizza  ...            Donald Petrie\n",
              "3                         Blood Red  ...          Peter Masterson\n",
              "4                   Steel Magnolias  ...             Herbert Ross\n",
              "5                      Pretty Woman  ...           Garry Marshall\n",
              "6                        Flatliners  ...          Joel Schumacher\n",
              "7           Sleeping with the Enemy  ...             Joseph Ruben\n",
              "8                       Dying Young  ...          Joel Schumacher\n",
              "9                              Hook  ...         Steven Spielberg\n",
              "10                       The Player  ...            Robert Altman\n",
              "11                The Pelican Brief  ...           Alan J. Pakula\n",
              "12                   I Love Trouble  ...            Charles Shyer\n",
              "13                    Prêt-à-Porter  ...            Robert Altman\n",
              "14          Something to Talk About  ...          Lasse Hallström\n",
              "15                      Mary Reilly  ...           Stephen Frears\n",
              "16                  Michael Collins  ...              Neil Jordan\n",
              "17         Everyone Says I Love You  ...              Woody Allen\n",
              "18         My Best Friend's Wedding  ...               P.J. Hogan\n",
              "19                Conspiracy Theory  ...           Richard Donner\n",
              "20                          Stepmom  ...           Chris Columbus\n",
              "21                     Notting Hill  ...            Roger Michell\n",
              "22                    Runaway Bride  ...           Garry Marshall\n",
              "23                  Erin Brockovich  ...        Steven Soderbergh\n",
              "24                      The Mexican  ...           Gore Verbinski\n",
              "25            America's Sweethearts  ...                 Joe Roth\n",
              "26                   Ocean's Eleven  ...        Steven Soderbergh\n",
              "27                   Grand Champion  ...               Barry Tubb\n",
              "28                     Full Frontal  ...        Steven Soderbergh\n",
              "29  Confessions of a Dangerous Mind  ...           George Clooney\n",
              "30                  Mona Lisa Smile  ...              Mike Newell\n",
              "31            Tell Them Who You Are  ...              Mark Wexler\n",
              "32                           Closer  ...             Mike Nichols\n",
              "33                   Ocean's Twelve  ...        Steven Soderbergh\n",
              "34                    The Ant Bully  ...            John A. Davis\n",
              "35                  Charlotte's Web  ...              Gary Winick\n",
              "36             Charlie Wilson's War  ...             Mike Nichols\n",
              "37          Fireflies in the Garden  ...               Dennis Lee\n",
              "38  Kit Kittredge: An American Girl  ...          Patricia Rozema\n",
              "39                        Duplicity  ...              Tony Gilroy\n",
              "40                  Valentine's Day  ...           Garry Marshall\n",
              "41                    Eat Pray Love  ...              Ryan Murphy\n",
              "42               Jesus Henry Christ  ...               Dennis Lee\n",
              "43          Love, Wedding, Marriage  ...          Dermot Mulroney\n",
              "44                     Larry Crowne  ...                Tom Hanks\n",
              "45                   Mirror, Mirror  ...             Tarsem Singh\n",
              "46             August: Osage County  ...               John Wells\n",
              "47             Secret in Their Eyes  ...                Billy Ray\n",
              "48                     Mother's Day  ...           Garry Marshall\n",
              "49                    Money Monster  ...             Jodie Foster\n",
              "50         Smurfs: The Lost Village  ...             Kelly Asbury\n",
              "51                           Wonder  ...          Stephen Chbosky\n",
              "52                      Ben Is Back  ...             Peter Hedges\n",
              "\n",
              "[53 rows x 4 columns]"
            ]
          },
          "metadata": {
            "tags": []
          },
          "execution_count": 5
        }
      ]
    },
    {
      "cell_type": "markdown",
      "metadata": {
        "id": "wN2LiDdalF9j",
        "colab_type": "text"
      },
      "source": [
        "##  **Q2**\n"
      ]
    },
    {
      "cell_type": "markdown",
      "metadata": {
        "id": "67d8BwER57Us",
        "colab_type": "text"
      },
      "source": [
        "Present a readable table with the following fields per co-actor\\actress: name, year of birth, country of birth and number of awards that he\\she got."
      ]
    },
    {
      "cell_type": "markdown",
      "metadata": {
        "id": "pqROzDMJYcF8",
        "colab_type": "text"
      },
      "source": [
        "an actor object definition"
      ]
    },
    {
      "cell_type": "code",
      "metadata": {
        "id": "HWV3t9JU1aO3",
        "colab_type": "code",
        "colab": {}
      },
      "source": [
        "class Actor:\n",
        "  def __init__(self,title,link):\n",
        "    self.link = link\n",
        "    self.title = title\n",
        "    self.count = 1\n",
        "    self.yearOfBirth =\"NA\" #for Not Available\n",
        "    self.countryOfBirth =\"NA\" #for Not Available\n",
        "    self.numberOfAwards = \"0\"\n",
        "\n",
        "  def __setYearOfBirth__(self,year):\n",
        "    self.yearOfBirth = year\n",
        "\n",
        "  def __setCountryOfBirth__(self,country):\n",
        "    self.countryOfBirth = country\n",
        "\n",
        "  def __setNumberOfAwards__(self,awards):\n",
        "    self.numberOfAwards = awards\n",
        "\n",
        "  def __setCount__(self):\n",
        "    self.count = self.count + 1\n",
        "\n",
        "  def __repr__(self):\n",
        "    return  self.title +\"    \" +self.link + \"   \" +str(self.count) + \"    \" +self.yearOfBirth + \"   \" + self.countryOfBirth +\"    \"+ self.numberOfAwards\n",
        "\n",
        "  def __str__(self):\n",
        "    return  self.title +\"    \" +self.link + \"   \" +str(self.count) + \"    \" +self.yearOfBirth + \"   \" + self.countryOfBirth +\"    \"+ self.numberOfAwards\n",
        "\n",
        "  def to_dict_q2(self) -> dict:\n",
        "        return {\n",
        "            \"Name\": self.title,\n",
        "            \"Year of Birth\": self.yearOfBirth,\n",
        "            \"Country of Birth\": self.countryOfBirth,\n",
        "            \"Awards\": self.numberOfAwards,\n",
        "        }\n",
        "  \n",
        "  def to_dict_q3(self) -> dict:\n",
        "        return {\n",
        "            \"Name\": self.title,\n",
        "            \"Number of performance\": self.count,\n",
        "        }"
      ],
      "execution_count": 0,
      "outputs": []
    },
    {
      "cell_type": "code",
      "metadata": {
        "id": "67aaWkTYn1to",
        "colab_type": "code",
        "colab": {}
      },
      "source": [
        "base_url = \"https://en.wikipedia.org\"\n",
        "list_of_actors = {}"
      ],
      "execution_count": 0,
      "outputs": []
    },
    {
      "cell_type": "markdown",
      "metadata": {
        "id": "uRUxU7PagJhg",
        "colab_type": "text"
      },
      "source": [
        "\n",
        "Getting from the table of the movies that Julia Roberts had participate links to them\n",
        "    ![alt text](https://drive.google.com/uc?id=1ZePzlLAZ1oCH_hLxBHOzY8gZixJbtY2L)\n",
        "    \n"
      ]
    },
    {
      "cell_type": "code",
      "metadata": {
        "id": "FfbMSaMRjHMR",
        "colab_type": "code",
        "colab": {}
      },
      "source": [
        "th_list = BeautifulSoup(str(table))\n",
        "th_list = th_list.find_all('th')\n",
        "th_list = BeautifulSoup(str(th_list))\n",
        "a_actors_list = th_list.find_all('a')\n",
        "links_of_movies = re.findall(r'href=\"(.*?)\" ', str(a_actors_list))\n",
        "links_of_movies = [base_url+x for x in links_of_movies] #create proper links"
      ],
      "execution_count": 0,
      "outputs": []
    },
    {
      "cell_type": "code",
      "metadata": {
        "id": "CdmvnmB7b0rs",
        "colab_type": "code",
        "colab": {}
      },
      "source": [
        "#getting list of actors \n",
        "def get_list_of_actors_in_cast(index_h2,list_of_actors):\n",
        "  ul_of_actors = index_h2.findNext('ul') \n",
        "  if len(ul_of_actors)>6: # small ul is not a cast \n",
        "    ul_of_actors = BeautifulSoup(str(ul_of_actors))\n",
        "  actors_names = re.findall(r'title=\"(.*?)\">', str(ul_of_actors))\n",
        "  actors_urls = re.findall(r'href=\"(.*?)\" ', str(ul_of_actors))\n",
        "  actors_urls = [base_url+x for x in actors_urls] # create list of links of actors\n",
        "  for index, (actors_name,actors_url) in enumerate(zip(actors_names,actors_urls)):\n",
        "    # create actor if not in the dict otherwise increase it by 1\n",
        "    if actors_name in list_of_actors:\n",
        "      list_of_actors[actors_name].__setCount__()\n",
        "    else:\n",
        "      list_of_actors[actors_name] = (Actor(link=actors_url,title=actors_name))"
      ],
      "execution_count": 0,
      "outputs": []
    },
    {
      "cell_type": "markdown",
      "metadata": {
        "id": "GFT1w-7ojc_x",
        "colab_type": "text"
      },
      "source": [
        "Crwal each movie and find all the actors that play\n",
        "\n",
        "![alt text](https://drive.google.com/uc?id=1NbVK7jR2iUuC3WQMxfRoOVfMBMz5W59c)"
      ]
    },
    {
      "cell_type": "code",
      "metadata": {
        "id": "3Q0SNQuWoTY4",
        "colab_type": "code",
        "colab": {}
      },
      "source": [
        "for movie in links_of_movies:  #run on all the movies\n",
        "    movie_resource = urlopen(movie)\n",
        "    obj_q2 = BeautifulSoup(movie_resource)\n",
        "    list_of_h2 = obj_q2.findAll('h2')\n",
        "    for index_h2 in list_of_h2: # run on all to find the cast table\n",
        "      id_of_h2 = re.findall(r'id=\"(.*?)\">', str(index_h2))\n",
        "      if len(id_of_h2)>0 and ('cast' in id_of_h2[0].lower()): #check if it a cast table\n",
        "        get_list_of_actors_in_cast(index_h2,list_of_actors)\n",
        "        break"
      ],
      "execution_count": 0,
      "outputs": []
    },
    {
      "cell_type": "code",
      "metadata": {
        "id": "N1deVxzF4LmH",
        "colab_type": "code",
        "colab": {}
      },
      "source": [
        "# del Julia Roberts from the list\n",
        "if \"Julia Roberts\" in list_of_actors:\n",
        "  del list_of_actors[\"Julia Roberts\"]"
      ],
      "execution_count": 0,
      "outputs": []
    },
    {
      "cell_type": "code",
      "metadata": {
        "id": "vmp6NPgcUbls",
        "colab_type": "code",
        "colab": {}
      },
      "source": [
        "#print(len(list_of_actors))\n",
        "#for x in sorted(list_of_actors):\n",
        "#  print(x)"
      ],
      "execution_count": 0,
      "outputs": []
    },
    {
      "cell_type": "markdown",
      "metadata": {
        "id": "QQaIsT6EKzRY",
        "colab_type": "text"
      },
      "source": [
        "1. getting the span that hold the birth\n",
        "2. getting the div that hold the birth place\n",
        "\n",
        "![alt text](https://drive.google.com/uc?id=1X1BYYGpPthaTeF4xTZ0RhjRYsCvZT887)"
      ]
    },
    {
      "cell_type": "code",
      "metadata": {
        "id": "gF_-SWB0Mm8Q",
        "colab_type": "code",
        "colab": {}
      },
      "source": [
        "def getYear(bs_obj_q2):\n",
        "  year = bs_obj_q2.find_all('span',{\"class\": \"bday\"})\n",
        "  if len(year) > 0:\n",
        "    year = str(year[0].text).split('-')[0]\n",
        "    return year\n",
        "  else:\n",
        "    return \"NA\""
      ],
      "execution_count": 0,
      "outputs": []
    },
    {
      "cell_type": "code",
      "metadata": {
        "id": "UUEDjVyxRwSv",
        "colab_type": "code",
        "colab": {}
      },
      "source": [
        "def getCountry(bs_obj_q2):\n",
        "  country =  bs_obj_q2.find_all('div',{\"class\": \"birthplace\"})\n",
        "  if len(country) > 0 :\n",
        "    country = str(country[0].text)\n",
        "    return country\n",
        "  else:\n",
        "    return \"NA\"\n"
      ],
      "execution_count": 0,
      "outputs": []
    },
    {
      "cell_type": "markdown",
      "metadata": {
        "id": "nOAIMXbjEcA7",
        "colab_type": "text"
      },
      "source": [
        "1. get all the tables in the page of the actor\n",
        "2. count the times that the word \"Won\" exist in the tables\n",
        "\n",
        "![alt text](https://drive.google.com/uc?id=1hTjotXLGjhyA1V083OA_StFYGbd2JOTg)\n",
        "\n"
      ]
    },
    {
      "cell_type": "code",
      "metadata": {
        "id": "2W3FBjsGXWd9",
        "colab_type": "code",
        "colab": {}
      },
      "source": [
        "def getAwards(bs_obj_q2):\n",
        "  count = 0\n",
        "  awards =  bs_obj_q2.find_all('table') \n",
        "  for award in awards:\n",
        "    if \"Won\" in str(award) or \"Nominated\" in str(award): #todo maybe easier in regex\n",
        "      award_BS = BeautifulSoup(str(award))\n",
        "      count = count + str(award).count(\"Won\")\n",
        "  if count==0: #todo maybe its a link for awards so check there\n",
        "    1+1\n",
        "  return str(count)"
      ],
      "execution_count": 0,
      "outputs": []
    },
    {
      "cell_type": "markdown",
      "metadata": {
        "id": "FGC6tCnkppsm",
        "colab_type": "text"
      },
      "source": [
        "Getting info about each actor and update the Actor list "
      ]
    },
    {
      "cell_type": "code",
      "metadata": {
        "id": "UG0_UK3P34D_",
        "colab_type": "code",
        "outputId": "0a06147b-6b10-4ab4-ea92-0bf05d9acaf6",
        "colab": {
          "base_uri": "https://localhost:8080/",
          "height": 100
        }
      },
      "source": [
        "list_of_not_actors=[]\n",
        "try:\n",
        "  for actor_name, actor_obj in list_of_actors.items():\n",
        "    try:\n",
        "      link = actor_obj.link\n",
        "      html_actor = urlopen(link)\n",
        "      bs_obj_q2 = BeautifulSoup(html_actor.read()) #todo check in page if actor (try this and delete if bad)\n",
        "      if \"actor\" in str(bs_obj_q2) or \"actress\" in str(bs_obj_q2):    \n",
        "        # add year to actor \n",
        "        list_of_actors[actor_name].__setYearOfBirth__(getYear(bs_obj_q2))\n",
        "        # add country to actor  \n",
        "        list_of_actors[actor_name].__setCountryOfBirth__(getCountry(bs_obj_q2))\n",
        "        list_of_actors[actor_name].__setNumberOfAwards__(getAwards(bs_obj_q2))\n",
        "      else:\n",
        "      list_of_not_actors.append(actor_name)\n",
        "    except Exception as e:\n",
        "      print(\"an actor could not been indexed correctly due to\",e)\n",
        "  for not_actor in list_of_not_actors:\n",
        "    list_of_actors.pop(not_actor)\n",
        "except:\n",
        "  "
      ],
      "execution_count": 16,
      "outputs": [
        {
          "output_type": "stream",
          "text": [
            "an actor could not been indexed correctly due to <urlopen error [Errno -2] Name or service not known>\n",
            "an actor could not been indexed correctly due to <urlopen error [Errno -2] Name or service not known>\n",
            "an actor could not been indexed correctly due to HTTP Error 404: Not Found\n",
            "an actor could not been indexed correctly due to HTTP Error 404: Not Found\n",
            "an actor could not been indexed correctly due to HTTP Error 404: Not Found\n"
          ],
          "name": "stdout"
        }
      ]
    },
    {
      "cell_type": "markdown",
      "metadata": {
        "id": "NBlve7lG1BNj",
        "colab_type": "text"
      },
      "source": [
        "Create DF of Actors"
      ]
    },
    {
      "cell_type": "code",
      "metadata": {
        "id": "a2g85ZWehB98",
        "colab_type": "code",
        "outputId": "a0dd19dc-c3dc-4f48-e5c0-dfeb0117bb1d",
        "colab": {
          "base_uri": "https://localhost:8080/",
          "height": 404
        }
      },
      "source": [
        "author_dicts = [actor_obj.to_dict_q2() for actor_name, actor_obj in list_of_actors.items()] #Creating a Dict to save all the actors\n",
        "df_q2 = pd.DataFrame(author_dicts) #returns a dataframe type\n",
        "df_q2"
      ],
      "execution_count": 17,
      "outputs": [
        {
          "output_type": "execute_result",
          "data": {
            "text/html": [
              "<div>\n",
              "<style scoped>\n",
              "    .dataframe tbody tr th:only-of-type {\n",
              "        vertical-align: middle;\n",
              "    }\n",
              "\n",
              "    .dataframe tbody tr th {\n",
              "        vertical-align: top;\n",
              "    }\n",
              "\n",
              "    .dataframe thead th {\n",
              "        text-align: right;\n",
              "    }\n",
              "</style>\n",
              "<table border=\"1\" class=\"dataframe\">\n",
              "  <thead>\n",
              "    <tr style=\"text-align: right;\">\n",
              "      <th></th>\n",
              "      <th>Name</th>\n",
              "      <th>Year of Birth</th>\n",
              "      <th>Country of Birth</th>\n",
              "      <th>Awards</th>\n",
              "    </tr>\n",
              "  </thead>\n",
              "  <tbody>\n",
              "    <tr>\n",
              "      <th>0</th>\n",
              "      <td>IMDb</td>\n",
              "      <td>NA</td>\n",
              "      <td>NA</td>\n",
              "      <td>0</td>\n",
              "    </tr>\n",
              "    <tr>\n",
              "      <th>1</th>\n",
              "      <td>Rotten Tomatoes</td>\n",
              "      <td>1990</td>\n",
              "      <td>NA</td>\n",
              "      <td>0</td>\n",
              "    </tr>\n",
              "    <tr>\n",
              "      <th>2</th>\n",
              "      <td>AllMovie</td>\n",
              "      <td>NA</td>\n",
              "      <td>NA</td>\n",
              "      <td>0</td>\n",
              "    </tr>\n",
              "    <tr>\n",
              "      <th>3</th>\n",
              "      <td>Justine Bateman</td>\n",
              "      <td>1966</td>\n",
              "      <td>Rye, New York, U.S.</td>\n",
              "      <td>0</td>\n",
              "    </tr>\n",
              "    <tr>\n",
              "      <th>4</th>\n",
              "      <td>Liam Neeson</td>\n",
              "      <td>1952</td>\n",
              "      <td>Ballymena, County Antrim, Northern Ireland</td>\n",
              "      <td>0</td>\n",
              "    </tr>\n",
              "    <tr>\n",
              "      <th>...</th>\n",
              "      <td>...</td>\n",
              "      <td>...</td>\n",
              "      <td>...</td>\n",
              "      <td>...</td>\n",
              "    </tr>\n",
              "    <tr>\n",
              "      <th>642</th>\n",
              "      <td>Alexandra Park (actress)</td>\n",
              "      <td>1989</td>\n",
              "      <td>Sydney, Australia[1]</td>\n",
              "      <td>3</td>\n",
              "    </tr>\n",
              "    <tr>\n",
              "      <th>643</th>\n",
              "      <td>Michael Esper</td>\n",
              "      <td>1976</td>\n",
              "      <td>Manhattan, New York, United States</td>\n",
              "      <td>0</td>\n",
              "    </tr>\n",
              "    <tr>\n",
              "      <th>644</th>\n",
              "      <td>Tim Guinee</td>\n",
              "      <td>1962</td>\n",
              "      <td>Los Angeles, California, U.S.</td>\n",
              "      <td>3</td>\n",
              "    </tr>\n",
              "    <tr>\n",
              "      <th>645</th>\n",
              "      <td>Henry Stram</td>\n",
              "      <td>1954</td>\n",
              "      <td>Lafayette, Indiana, U.S.</td>\n",
              "      <td>0</td>\n",
              "    </tr>\n",
              "    <tr>\n",
              "      <th>646</th>\n",
              "      <td>Kristin Griffith</td>\n",
              "      <td>1953</td>\n",
              "      <td>Odessa, Texas</td>\n",
              "      <td>0</td>\n",
              "    </tr>\n",
              "  </tbody>\n",
              "</table>\n",
              "<p>647 rows × 4 columns</p>\n",
              "</div>"
            ],
            "text/plain": [
              "                         Name  ... Awards\n",
              "0                        IMDb  ...      0\n",
              "1             Rotten Tomatoes  ...      0\n",
              "2                    AllMovie  ...      0\n",
              "3             Justine Bateman  ...      0\n",
              "4                 Liam Neeson  ...      0\n",
              "..                        ...  ...    ...\n",
              "642  Alexandra Park (actress)  ...      3\n",
              "643             Michael Esper  ...      0\n",
              "644                Tim Guinee  ...      3\n",
              "645               Henry Stram  ...      0\n",
              "646          Kristin Griffith  ...      0\n",
              "\n",
              "[647 rows x 4 columns]"
            ]
          },
          "metadata": {
            "tags": []
          },
          "execution_count": 17
        }
      ]
    },
    {
      "cell_type": "markdown",
      "metadata": {
        "id": "5GT9KOaw0WBj",
        "colab_type": "text"
      },
      "source": [
        "# **Q3**\n"
      ]
    },
    {
      "cell_type": "code",
      "metadata": {
        "id": "iXNDPzcs2jeW",
        "colab_type": "code",
        "outputId": "f4ebb4c8-02c3-4e79-e593-f9e0cec78fec",
        "colab": {
          "base_uri": "https://localhost:8080/",
          "height": 404
        }
      },
      "source": [
        "author_dicts_count = [actor_obj.to_dict_q3() for actor_name, actor_obj in list_of_actors.items()]\n",
        "df_q3 = pd.DataFrame(author_dicts_count)\n",
        "df_q3"
      ],
      "execution_count": 23,
      "outputs": [
        {
          "output_type": "execute_result",
          "data": {
            "text/html": [
              "<div>\n",
              "<style scoped>\n",
              "    .dataframe tbody tr th:only-of-type {\n",
              "        vertical-align: middle;\n",
              "    }\n",
              "\n",
              "    .dataframe tbody tr th {\n",
              "        vertical-align: top;\n",
              "    }\n",
              "\n",
              "    .dataframe thead th {\n",
              "        text-align: right;\n",
              "    }\n",
              "</style>\n",
              "<table border=\"1\" class=\"dataframe\">\n",
              "  <thead>\n",
              "    <tr style=\"text-align: right;\">\n",
              "      <th></th>\n",
              "      <th>Name</th>\n",
              "      <th>Number of performance</th>\n",
              "    </tr>\n",
              "  </thead>\n",
              "  <tbody>\n",
              "    <tr>\n",
              "      <th>0</th>\n",
              "      <td>IMDb</td>\n",
              "      <td>1</td>\n",
              "    </tr>\n",
              "    <tr>\n",
              "      <th>1</th>\n",
              "      <td>Rotten Tomatoes</td>\n",
              "      <td>1</td>\n",
              "    </tr>\n",
              "    <tr>\n",
              "      <th>2</th>\n",
              "      <td>AllMovie</td>\n",
              "      <td>1</td>\n",
              "    </tr>\n",
              "    <tr>\n",
              "      <th>3</th>\n",
              "      <td>Justine Bateman</td>\n",
              "      <td>1</td>\n",
              "    </tr>\n",
              "    <tr>\n",
              "      <th>4</th>\n",
              "      <td>Liam Neeson</td>\n",
              "      <td>2</td>\n",
              "    </tr>\n",
              "    <tr>\n",
              "      <th>...</th>\n",
              "      <td>...</td>\n",
              "      <td>...</td>\n",
              "    </tr>\n",
              "    <tr>\n",
              "      <th>642</th>\n",
              "      <td>Alexandra Park (actress)</td>\n",
              "      <td>1</td>\n",
              "    </tr>\n",
              "    <tr>\n",
              "      <th>643</th>\n",
              "      <td>Michael Esper</td>\n",
              "      <td>1</td>\n",
              "    </tr>\n",
              "    <tr>\n",
              "      <th>644</th>\n",
              "      <td>Tim Guinee</td>\n",
              "      <td>1</td>\n",
              "    </tr>\n",
              "    <tr>\n",
              "      <th>645</th>\n",
              "      <td>Henry Stram</td>\n",
              "      <td>1</td>\n",
              "    </tr>\n",
              "    <tr>\n",
              "      <th>646</th>\n",
              "      <td>Kristin Griffith</td>\n",
              "      <td>1</td>\n",
              "    </tr>\n",
              "  </tbody>\n",
              "</table>\n",
              "<p>647 rows × 2 columns</p>\n",
              "</div>"
            ],
            "text/plain": [
              "                         Name  Number of performance\n",
              "0                        IMDb                      1\n",
              "1             Rotten Tomatoes                      1\n",
              "2                    AllMovie                      1\n",
              "3             Justine Bateman                      1\n",
              "4                 Liam Neeson                      2\n",
              "..                        ...                    ...\n",
              "642  Alexandra Park (actress)                      1\n",
              "643             Michael Esper                      1\n",
              "644                Tim Guinee                      1\n",
              "645               Henry Stram                      1\n",
              "646          Kristin Griffith                      1\n",
              "\n",
              "[647 rows x 2 columns]"
            ]
          },
          "metadata": {
            "tags": []
          },
          "execution_count": 23
        }
      ]
    },
    {
      "cell_type": "code",
      "metadata": {
        "id": "SgOcifgJ0qQl",
        "colab_type": "code",
        "colab": {}
      },
      "source": [
        "dict_histogram = {}\n",
        "for item in author_dicts_count:\n",
        "  performance = item[\"Number of performance\"]\n",
        "  if performance in dict_histogram:\n",
        "    dict_histogram[performance] += 1\n",
        "  else:\n",
        "    dict_histogram[performance] = 1\n"
      ],
      "execution_count": 0,
      "outputs": []
    },
    {
      "cell_type": "code",
      "metadata": {
        "id": "JwPar79p5eZ3",
        "colab_type": "code",
        "outputId": "6f0e263c-a978-4cd8-fdb5-8e7cf72454bb",
        "colab": {
          "base_uri": "https://localhost:8080/",
          "height": 33
        }
      },
      "source": [
        "dict_histogram"
      ],
      "execution_count": 25,
      "outputs": [
        {
          "output_type": "execute_result",
          "data": {
            "text/plain": [
              "{1: 590, 2: 48, 3: 4, 4: 4, 5: 1}"
            ]
          },
          "metadata": {
            "tags": []
          },
          "execution_count": 25
        }
      ]
    },
    {
      "cell_type": "code",
      "metadata": {
        "id": "TEof_o6N-7hL",
        "colab_type": "code",
        "outputId": "6f1b8c00-c76e-4804-8425-5f68566d0b30",
        "colab": {
          "base_uri": "https://localhost:8080/",
          "height": 295
        }
      },
      "source": [
        "import matplotlib.pyplot as plt\n",
        "plt.bar(dict_histogram.keys(), dict_histogram.values(), color='g')\n",
        "plt.title('Histogram : performance -> number of people')\n",
        "plt.xlabel('performance')\n",
        "plt.ylabel('number of people')\n",
        "plt.show()"
      ],
      "execution_count": 26,
      "outputs": [
        {
          "output_type": "display_data",
          "data": {
            "image/png": "[encoded data removed]",
            "text/plain": [
              "<Figure size 432x288 with 1 Axes>"
            ]
          },
          "metadata": {
            "tags": []
          }
        }
      ]
    },
    {
      "cell_type": "code",
      "metadata": {
        "id": "SYu-_aUf_dHU",
        "colab_type": "code",
        "colab": {}
      },
      "source": [
        ""
      ],
      "execution_count": 0,
      "outputs": []
    }
  ]
}